{
 "cells": [
  {
   "cell_type": "markdown",
   "metadata": {},
   "source": [
    "# Load the data. #\n",
    "* First convert the xlsb files to csv format.\n",
    "* Drop samples without a TARGET value."
   ]
  },
  {
   "cell_type": "code",
   "execution_count": null,
   "metadata": {},
   "outputs": [],
   "source": [
    "import pandas as pd\n",
    "import numpy as np\n",
    "df = pd.read_csv('development_sample.csv', header=0, index_col=None,low_memory=False)\n",
    "dftest = pd.read_csv('assessment_sample.csv', header=0, index_col=None,low_memory=False)\n",
    "#catColumns = df.select_dtypes(include=['object']).columns\n",
    "#df.loc[:,catColumns]= df[catColumns].astype('object')\n",
    "df.dropna(subset=['TARGET'],inplace=True)\n",
    "dfeature = df.drop( ['TARGET','ID2'],axis=1).copy()\n",
    "dfeature_test = dftest.drop( ['ID2'],axis=1).copy()\n",
    "#df.head()"
   ]
  },
  {
   "cell_type": "markdown",
   "metadata": {},
   "source": [
    "# Explore the data set."
   ]
  },
  {
   "cell_type": "code",
   "execution_count": null,
   "metadata": {},
   "outputs": [],
   "source": [
    "# hack the data types and unique values\n",
    "pd.set_option('display.max_rows', 500)\n",
    "desc = pd.DataFrame()\n",
    "desc['dtypes'] = dfeature.dtypes\n",
    "desc['nuniques'] = dfeature.nunique()\n",
    "desc['count'] = dfeature.count()\n",
    "desc['value set'] = dfeature.apply(lambda x:set(x), axis=0)\n",
    "desc.to_csv('develop_desc.csv')"
   ]
  },
  {
   "cell_type": "code",
   "execution_count": null,
   "metadata": {},
   "outputs": [],
   "source": [
    "# hack the test data set\n",
    "desc = pd.DataFrame()\n",
    "desc['dtypes'] = dfeature_test.dtypes\n",
    "desc['nuniques'] = dfeature_test.nunique()\n",
    "desc['count'] = dfeature_test.count()\n",
    "desc['value set'] = dfeature_test.apply(lambda x:set(x), axis=0)\n",
    "desc.to_csv('assessment_desc.csv')"
   ]
  },
  {
   "cell_type": "code",
   "execution_count": null,
   "metadata": {
    "code_folding": [
     0
    ]
   },
   "outputs": [],
   "source": [
    "# explore the data with hist and pdf plot\n",
    "import matplotlib.pyplot as plt\n",
    "for col in dfeature.columns[0:]:\n",
    "    try:\n",
    "        if dfeature.dtypes[col] != dfeature.dtypes['HOUR']:\n",
    "            plt.figure()\n",
    "            plt.hist(dfeature[col])\n",
    "            plt.title(col)\n",
    "        else:\n",
    "            ser = dfeature[col]\n",
    "            sergp = ser.groupby(ser.values).size().sort_values(ascending=False)\n",
    "            plt.figure()\n",
    "            plt.plot(sergp.values)\n",    
