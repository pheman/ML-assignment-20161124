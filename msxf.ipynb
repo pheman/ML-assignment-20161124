{
 "cells": [
  {
   "cell_type": "markdown",
   "metadata": {},
   "source": [
    "# Load the data. #\n",
    "* First convert the xlsb files to csv format.\n",
    "* Drop samples without a TARGET value."
   ]
  },
  {
   "cell_type": "code",
   "execution_count": 1,
   "metadata": {},
   "outputs": [],
   "source": [
    "import pandas as pd\n",
    "import numpy as np\n",
    "df = pd.read_csv('development_sample.csv', header=0, index_col=None,low_memory=False)\n",
    "dftest = pd.read_csv('assessment_sample.csv', header=0, index_col=None,low_memory=False)\n",
    "#catColumns = df.select_dtypes(include=['object']).columns\n",
    "#df.loc[:,catColumns]= df[catColumns].astype('object')\n",
    "df.dropna(subset=['TARGET'],inplace=True)\n",
    "dfeature = df.drop( ['TARGET','ID2'],axis=1).copy()\n",
    "dfeature_test = dftest.drop( ['ID2'],axis=1).copy()\n",
    "#df.head()"
   ]
  },
  {
